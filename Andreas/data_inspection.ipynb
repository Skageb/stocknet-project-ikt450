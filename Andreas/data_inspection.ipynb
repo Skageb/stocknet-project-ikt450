{
 "cells": [
  {
   "cell_type": "code",
   "execution_count": 1,
   "metadata": {},
   "outputs": [],
   "source": [
    "import pandas as pd\n",
    "import os\n",
    "import numpy as np"
   ]
  },
  {
   "cell_type": "code",
   "execution_count": 2,
   "metadata": {},
   "outputs": [],
   "source": [
    "import os\n",
    "import pandas as pd\n",
    "\n",
    "# Define the folder where the data files are located\n",
    "folder_path = \"../dataset/price/preprocessed\"\n",
    "\n",
    "# Define the time period\n",
    "start_date = \"2014-01-01\"\n",
    "end_date = \"2016-01-01\"\n",
    "\n",
    "# Define the split date for training and testing\n",
    "split_date = \"2015-10-01\"\n",
    "\n",
    "# Initialize dictionaries to store training and testing data for each company\n",
    "company_data_train = {}\n",
    "company_data_test = {}\n",
    "\n",
    "# Loop through all files in the folder\n",
    "for file_name in os.listdir(folder_path):\n",
    "    if file_name.endswith(\".txt\"):  # Ensure it's a data file\n",
    "        company_name = file_name.split(\".\")[0]  # Extract company name\n",
    "        file_path = os.path.join(folder_path, file_name)\n",
    "        \n",
    "        # Load the data\n",
    "        df = pd.read_csv(file_path, sep=\"\\t\", header=None)\n",
    "        df.columns = [\"date\", \"movement_percent\", \"open_price\", \"high_price\", \"low_price\", \"close_price\", \"volume\"]\n",
    "        df[\"date\"] = pd.to_datetime(df[\"date\"])  # Convert date to datetime\n",
    "        \n",
    "        # Filter data based on the date range\n",
    "        filtered_df = df[(df[\"date\"] >= start_date) & (df[\"date\"] <= end_date)]\n",
    "        \n",
    "        # Split into training and testing data\n",
    "        train_df = filtered_df[filtered_df[\"date\"] < split_date]\n",
    "        test_df = filtered_df[filtered_df[\"date\"] >= split_date]\n",
    "        \n",
    "        # Store the split data in respective dictionaries\n",
    "        company_data_train[company_name] = train_df\n",
    "        company_data_test[company_name] = test_df\n",
    "\n",
    "# Now `company_data_train` contains training data and `company_data_test` contains testing data for each company\n"
   ]
  },
  {
   "cell_type": "code",
   "execution_count": 3,
   "metadata": {},
   "outputs": [
    {
     "data": {
      "text/html": [
       "<div>\n",
       "<style scoped>\n",
       "    .dataframe tbody tr th:only-of-type {\n",
       "        vertical-align: middle;\n",
       "    }\n",
       "\n",
       "    .dataframe tbody tr th {\n",
       "        vertical-align: top;\n",
       "    }\n",
       "\n",
       "    .dataframe thead th {\n",
       "        text-align: right;\n",
       "    }\n",
       "</style>\n",
       "<table border=\"1\" class=\"dataframe\">\n",
       "  <thead>\n",
       "    <tr style=\"text-align: right;\">\n",
       "      <th></th>\n",
       "      <th>date</th>\n",
       "      <th>movement_percent</th>\n",
       "      <th>open_price</th>\n",
       "      <th>high_price</th>\n",
       "      <th>low_price</th>\n",
       "      <th>close_price</th>\n",
       "      <th>volume</th>\n",
       "    </tr>\n",
       "  </thead>\n",
       "  <tbody>\n",
       "    <tr>\n",
       "      <th>485</th>\n",
       "      <td>2015-09-30</td>\n",
       "      <td>0.011370</td>\n",
       "      <td>0.049976</td>\n",
       "      <td>0.063033</td>\n",
       "      <td>0.036252</td>\n",
       "      <td>1.193001</td>\n",
       "      <td>66473000.0</td>\n",
       "    </tr>\n",
       "    <tr>\n",
       "      <th>486</th>\n",
       "      <td>2015-09-29</td>\n",
       "      <td>-0.030060</td>\n",
       "      <td>0.043003</td>\n",
       "      <td>0.049289</td>\n",
       "      <td>-0.002940</td>\n",
       "      <td>-3.251884</td>\n",
       "      <td>73365400.0</td>\n",
       "    </tr>\n",
       "    <tr>\n",
       "      <th>487</th>\n",
       "      <td>2015-09-28</td>\n",
       "      <td>-0.019789</td>\n",
       "      <td>0.031605</td>\n",
       "      <td>0.038129</td>\n",
       "      <td>0.018829</td>\n",
       "      <td>-2.183953</td>\n",
       "      <td>52109000.0</td>\n",
       "    </tr>\n",
       "    <tr>\n",
       "      <th>488</th>\n",
       "      <td>2015-09-25</td>\n",
       "      <td>-0.002522</td>\n",
       "      <td>0.052413</td>\n",
       "      <td>0.054672</td>\n",
       "      <td>0.030540</td>\n",
       "      <td>-0.279007</td>\n",
       "      <td>56151900.0</td>\n",
       "    </tr>\n",
       "    <tr>\n",
       "      <th>489</th>\n",
       "      <td>2015-09-24</td>\n",
       "      <td>0.005948</td>\n",
       "      <td>0.029669</td>\n",
       "      <td>0.050126</td>\n",
       "      <td>0.021668</td>\n",
       "      <td>0.654221</td>\n",
       "      <td>50219500.0</td>\n",
       "    </tr>\n",
       "    <tr>\n",
       "      <th>...</th>\n",
       "      <td>...</td>\n",
       "      <td>...</td>\n",
       "      <td>...</td>\n",
       "      <td>...</td>\n",
       "      <td>...</td>\n",
       "      <td>...</td>\n",
       "      <td>...</td>\n",
       "    </tr>\n",
       "    <tr>\n",
       "      <th>920</th>\n",
       "      <td>2014-01-08</td>\n",
       "      <td>0.006333</td>\n",
       "      <td>0.072305</td>\n",
       "      <td>0.085738</td>\n",
       "      <td>0.072066</td>\n",
       "      <td>0.454582</td>\n",
       "      <td>64632400.0</td>\n",
       "    </tr>\n",
       "    <tr>\n",
       "      <th>921</th>\n",
       "      <td>2014-01-07</td>\n",
       "      <td>-0.007151</td>\n",
       "      <td>0.075524</td>\n",
       "      <td>0.078764</td>\n",
       "      <td>0.062878</td>\n",
       "      <td>-0.517036</td>\n",
       "      <td>79302300.0</td>\n",
       "    </tr>\n",
       "    <tr>\n",
       "      <th>922</th>\n",
       "      <td>2014-01-06</td>\n",
       "      <td>0.005453</td>\n",
       "      <td>0.067740</td>\n",
       "      <td>0.086315</td>\n",
       "      <td>0.060091</td>\n",
       "      <td>0.392089</td>\n",
       "      <td>103152700.0</td>\n",
       "    </tr>\n",
       "    <tr>\n",
       "      <th>923</th>\n",
       "      <td>2014-01-03</td>\n",
       "      <td>-0.021966</td>\n",
       "      <td>0.074229</td>\n",
       "      <td>0.075861</td>\n",
       "      <td>0.050077</td>\n",
       "      <td>-1.614975</td>\n",
       "      <td>98116900.0</td>\n",
       "    </tr>\n",
       "    <tr>\n",
       "      <th>924</th>\n",
       "      <td>2014-01-02</td>\n",
       "      <td>-0.014064</td>\n",
       "      <td>0.064523</td>\n",
       "      <td>0.067109</td>\n",
       "      <td>0.057512</td>\n",
       "      <td>-1.048751</td>\n",
       "      <td>58671200.0</td>\n",
       "    </tr>\n",
       "  </tbody>\n",
       "</table>\n",
       "<p>440 rows × 7 columns</p>\n",
       "</div>"
      ],
      "text/plain": [
       "          date  movement_percent  open_price  high_price  low_price  \\\n",
       "485 2015-09-30          0.011370    0.049976    0.063033   0.036252   \n",
       "486 2015-09-29         -0.030060    0.043003    0.049289  -0.002940   \n",
       "487 2015-09-28         -0.019789    0.031605    0.038129   0.018829   \n",
       "488 2015-09-25         -0.002522    0.052413    0.054672   0.030540   \n",
       "489 2015-09-24          0.005948    0.029669    0.050126   0.021668   \n",
       "..         ...               ...         ...         ...        ...   \n",
       "920 2014-01-08          0.006333    0.072305    0.085738   0.072066   \n",
       "921 2014-01-07         -0.007151    0.075524    0.078764   0.062878   \n",
       "922 2014-01-06          0.005453    0.067740    0.086315   0.060091   \n",
       "923 2014-01-03         -0.021966    0.074229    0.075861   0.050077   \n",
       "924 2014-01-02         -0.014064    0.064523    0.067109   0.057512   \n",
       "\n",
       "     close_price       volume  \n",
       "485     1.193001   66473000.0  \n",
       "486    -3.251884   73365400.0  \n",
       "487    -2.183953   52109000.0  \n",
       "488    -0.279007   56151900.0  \n",
       "489     0.654221   50219500.0  \n",
       "..           ...          ...  \n",
       "920     0.454582   64632400.0  \n",
       "921    -0.517036   79302300.0  \n",
       "922     0.392089  103152700.0  \n",
       "923    -1.614975   98116900.0  \n",
       "924    -1.048751   58671200.0  \n",
       "\n",
       "[440 rows x 7 columns]"
      ]
     },
     "execution_count": 3,
     "metadata": {},
     "output_type": "execute_result"
    }
   ],
   "source": [
    "company_data_train[\"AAPL\"]"
   ]
  },
  {
   "cell_type": "code",
   "execution_count": 4,
   "metadata": {},
   "outputs": [
    {
     "data": {
      "text/html": [
       "<div>\n",
       "<style scoped>\n",
       "    .dataframe tbody tr th:only-of-type {\n",
       "        vertical-align: middle;\n",
       "    }\n",
       "\n",
       "    .dataframe tbody tr th {\n",
       "        vertical-align: top;\n",
       "    }\n",
       "\n",
       "    .dataframe thead th {\n",
       "        text-align: right;\n",
       "    }\n",
       "</style>\n",
       "<table border=\"1\" class=\"dataframe\">\n",
       "  <thead>\n",
       "    <tr style=\"text-align: right;\">\n",
       "      <th></th>\n",
       "      <th>date</th>\n",
       "      <th>movement_percent</th>\n",
       "      <th>open_price</th>\n",
       "      <th>high_price</th>\n",
       "      <th>low_price</th>\n",
       "      <th>close_price</th>\n",
       "      <th>volume</th>\n",
       "    </tr>\n",
       "  </thead>\n",
       "  <tbody>\n",
       "    <tr>\n",
       "      <th>421</th>\n",
       "      <td>2015-12-31</td>\n",
       "      <td>-0.019195</td>\n",
       "      <td>0.031978</td>\n",
       "      <td>0.032171</td>\n",
       "      <td>0.010858</td>\n",
       "      <td>-1.990410</td>\n",
       "      <td>40635300.0</td>\n",
       "    </tr>\n",
       "    <tr>\n",
       "      <th>422</th>\n",
       "      <td>2015-12-30</td>\n",
       "      <td>-0.013059</td>\n",
       "      <td>0.033445</td>\n",
       "      <td>0.034587</td>\n",
       "      <td>0.020120</td>\n",
       "      <td>-1.372009</td>\n",
       "      <td>25213800.0</td>\n",
       "    </tr>\n",
       "    <tr>\n",
       "      <th>423</th>\n",
       "      <td>2015-12-29</td>\n",
       "      <td>0.017974</td>\n",
       "      <td>0.036324</td>\n",
       "      <td>0.060255</td>\n",
       "      <td>0.035355</td>\n",
       "      <td>1.855117</td>\n",
       "      <td>30931200.0</td>\n",
       "    </tr>\n",
       "    <tr>\n",
       "      <th>424</th>\n",
       "      <td>2015-12-28</td>\n",
       "      <td>-0.011201</td>\n",
       "      <td>0.030752</td>\n",
       "      <td>0.031710</td>\n",
       "      <td>0.017244</td>\n",
       "      <td>-1.169113</td>\n",
       "      <td>26704200.0</td>\n",
       "    </tr>\n",
       "    <tr>\n",
       "      <th>425</th>\n",
       "      <td>2015-12-24</td>\n",
       "      <td>-0.005340</td>\n",
       "      <td>0.038684</td>\n",
       "      <td>0.038684</td>\n",
       "      <td>0.028678</td>\n",
       "      <td>-0.560394</td>\n",
       "      <td>13570400.0</td>\n",
       "    </tr>\n",
       "    <tr>\n",
       "      <th>...</th>\n",
       "      <td>...</td>\n",
       "      <td>...</td>\n",
       "      <td>...</td>\n",
       "      <td>...</td>\n",
       "      <td>...</td>\n",
       "      <td>...</td>\n",
       "      <td>...</td>\n",
       "    </tr>\n",
       "    <tr>\n",
       "      <th>480</th>\n",
       "      <td>2015-10-07</td>\n",
       "      <td>-0.004761</td>\n",
       "      <td>0.043413</td>\n",
       "      <td>0.043693</td>\n",
       "      <td>0.021656</td>\n",
       "      <td>-0.509903</td>\n",
       "      <td>46765600.0</td>\n",
       "    </tr>\n",
       "    <tr>\n",
       "      <th>481</th>\n",
       "      <td>2015-10-06</td>\n",
       "      <td>0.004784</td>\n",
       "      <td>0.037990</td>\n",
       "      <td>0.048405</td>\n",
       "      <td>0.029921</td>\n",
       "      <td>0.509903</td>\n",
       "      <td>48196800.0</td>\n",
       "    </tr>\n",
       "    <tr>\n",
       "      <th>482</th>\n",
       "      <td>2015-10-05</td>\n",
       "      <td>0.003624</td>\n",
       "      <td>0.034689</td>\n",
       "      <td>0.048720</td>\n",
       "      <td>0.027062</td>\n",
       "      <td>0.384842</td>\n",
       "      <td>52064700.0</td>\n",
       "    </tr>\n",
       "    <tr>\n",
       "      <th>483</th>\n",
       "      <td>2015-10-02</td>\n",
       "      <td>0.007301</td>\n",
       "      <td>0.024506</td>\n",
       "      <td>0.052961</td>\n",
       "      <td>0.020142</td>\n",
       "      <td>0.769676</td>\n",
       "      <td>58019800.0</td>\n",
       "    </tr>\n",
       "    <tr>\n",
       "      <th>484</th>\n",
       "      <td>2015-10-01</td>\n",
       "      <td>-0.006528</td>\n",
       "      <td>0.027807</td>\n",
       "      <td>0.032990</td>\n",
       "      <td>0.011222</td>\n",
       "      <td>-0.692719</td>\n",
       "      <td>63929100.0</td>\n",
       "    </tr>\n",
       "  </tbody>\n",
       "</table>\n",
       "<p>64 rows × 7 columns</p>\n",
       "</div>"
      ],
      "text/plain": [
       "          date  movement_percent  open_price  high_price  low_price  \\\n",
       "421 2015-12-31         -0.019195    0.031978    0.032171   0.010858   \n",
       "422 2015-12-30         -0.013059    0.033445    0.034587   0.020120   \n",
       "423 2015-12-29          0.017974    0.036324    0.060255   0.035355   \n",
       "424 2015-12-28         -0.011201    0.030752    0.031710   0.017244   \n",
       "425 2015-12-24         -0.005340    0.038684    0.038684   0.028678   \n",
       "..         ...               ...         ...         ...        ...   \n",
       "480 2015-10-07         -0.004761    0.043413    0.043693   0.021656   \n",
       "481 2015-10-06          0.004784    0.037990    0.048405   0.029921   \n",
       "482 2015-10-05          0.003624    0.034689    0.048720   0.027062   \n",
       "483 2015-10-02          0.007301    0.024506    0.052961   0.020142   \n",
       "484 2015-10-01         -0.006528    0.027807    0.032990   0.011222   \n",
       "\n",
       "     close_price      volume  \n",
       "421    -1.990410  40635300.0  \n",
       "422    -1.372009  25213800.0  \n",
       "423     1.855117  30931200.0  \n",
       "424    -1.169113  26704200.0  \n",
       "425    -0.560394  13570400.0  \n",
       "..           ...         ...  \n",
       "480    -0.509903  46765600.0  \n",
       "481     0.509903  48196800.0  \n",
       "482     0.384842  52064700.0  \n",
       "483     0.769676  58019800.0  \n",
       "484    -0.692719  63929100.0  \n",
       "\n",
       "[64 rows x 7 columns]"
      ]
     },
     "execution_count": 4,
     "metadata": {},
     "output_type": "execute_result"
    }
   ],
   "source": [
    "company_data_test[\"AAPL\"]"
   ]
  },
  {
   "cell_type": "code",
   "execution_count": 3,
   "metadata": {},
   "outputs": [
    {
     "data": {
      "image/png": "[encoded data removed]",
      "text/plain": [
       "<Figure size 1000x600 with 1 Axes>"
      ]
     },
     "metadata": {},
     "output_type": "display_data"
    }
   ],
   "source": [
    "import matplotlib.pyplot as plt\n",
    "\n",
    "def plot_price_changes(company_name, data_dict):\n",
    "    if company_name in data_dict:\n",
    "        company_data = data_dict[company_name]\n",
    "        \n",
    "        plt.figure(figsize=(10, 6))\n",
    "        plt.plot(company_data[\"date\"], company_data[\"close_price\"], label=f\"{company_name} Close Price\")\n",
    "        plt.title(f\"{company_name} Price Changes Over Time\")\n",
    "        plt.xlabel(\"Date\")\n",
    "        plt.ylabel(\"Close Price (Normalized)\")\n",
    "        plt.grid()\n",
    "        plt.legend()\n",
    "        plt.show()\n",
    "    else:\n",
    "        print(f\"Company {company_name} not found in the data dictionary.\")\n",
    "\n",
    "plot_price_changes(\"AAPL\", company_data_test)\n"
   ]
  },
  {
   "cell_type": "code",
   "execution_count": 4,
   "metadata": {},
   "outputs": [],
   "source": [
    "def create_sequences(data, features, sequence_length=5):\n",
    "    \"\"\"\n",
    "    Creates sequences of 5 consecutive rows for features and uses the next row for the target.\n",
    "\n",
    "    Parameters:\n",
    "        data (DataFrame): The dataset with features and target.\n",
    "        features (list): List of column names to use as features.\n",
    "        sequence_length (int): Number of rows in each sequence.\n",
    "\n",
    "    Returns:\n",
    "        X (numpy array): Input sequences of shape (samples, sequence_length, features).\n",
    "        y (numpy array): Corresponding target labels.\n",
    "    \"\"\"\n",
    "    X, y = [], []\n",
    "\n",
    "    for i in range(len(data) - sequence_length):\n",
    "        # Extract the sequence of 5 rows\n",
    "        X.append(data[features].iloc[i:i+sequence_length].values)\n",
    "        # Use the 6th row's target\n",
    "        y.append(data[\"target\"].iloc[i + sequence_length])\n",
    "    \n",
    "    return np.array(X), np.array(y)\n"
   ]
  },
  {
   "cell_type": "code",
   "execution_count": 5,
   "metadata": {},
   "outputs": [
    {
     "name": "stderr",
     "output_type": "stream",
     "text": [
      "C:\\Users\\Otto9\\AppData\\Local\\Temp\\ipykernel_2484\\488495222.py:19: SettingWithCopyWarning: \n",
      "A value is trying to be set on a copy of a slice from a DataFrame.\n",
      "Try using .loc[row_indexer,col_indexer] = value instead\n",
      "\n",
      "See the caveats in the documentation: https://pandas.pydata.org/pandas-docs/stable/user_guide/indexing.html#returning-a-view-versus-a-copy\n",
      "  data[\"target\"] = (data[\"open_price\"] < data[\"close_price\"]).astype(int)\n",
      "C:\\Users\\Otto9\\AppData\\Local\\Temp\\ipykernel_2484\\488495222.py:19: SettingWithCopyWarning: \n",
      "A value is trying to be set on a copy of a slice from a DataFrame.\n",
      "Try using .loc[row_indexer,col_indexer] = value instead\n",
      "\n",
      "See the caveats in the documentation: https://pandas.pydata.org/pandas-docs/stable/user_guide/indexing.html#returning-a-view-versus-a-copy\n",
      "  data[\"target\"] = (data[\"open_price\"] < data[\"close_price\"]).astype(int)\n"
     ]
    }
   ],
   "source": [
    "# Define a function to generate sequences for all companies\n",
    "def create_sequences_for_all(data_dict, features, sequence_length=5):\n",
    "    \"\"\"\n",
    "    Generates sequences for all companies in the given data dictionary.\n",
    "\n",
    "    Parameters:\n",
    "        data_dict (dict): Dictionary containing dataframes for multiple companies.\n",
    "        features (list): List of column names to use as features.\n",
    "        sequence_length (int): Number of rows in each sequence.\n",
    "\n",
    "    Returns:\n",
    "        X_dict (dict): Dictionary of input sequences for each company.\n",
    "        y_dict (dict): Dictionary of target labels for each company.\n",
    "    \"\"\"\n",
    "    X_dict, y_dict = {}, {}\n",
    "\n",
    "    for company, data in data_dict.items():\n",
    "        # Create the target column for the company\n",
    "        data[\"target\"] = (data[\"open_price\"] < data[\"close_price\"]).astype(int)\n",
    "        \n",
    "        # Generate sequences for the company\n",
    "        X, y = create_sequences(data, features, sequence_length)\n",
    "        \n",
    "        # Store in the respective dictionaries\n",
    "        X_dict[company] = X\n",
    "        y_dict[company] = y\n",
    "\n",
    "    return X_dict, y_dict\n",
    "\n",
    "# Define features for the input\n",
    "features = [\"movement_percent\", \"open_price\", \"high_price\", \"low_price\", \"close_price\", \"volume\"]\n",
    "\n",
    "# Generate sequences for training and testing data for all companies\n",
    "X_train_dict, y_train_dict = create_sequences_for_all(company_data_train, features)\n",
    "X_test_dict, y_test_dict = create_sequences_for_all(company_data_test, features)\n",
    "\n",
    "\n"
   ]
  },
  {
   "cell_type": "code",
   "execution_count": 6,
   "metadata": {},
   "outputs": [
    {
     "name": "stdout",
     "output_type": "stream",
     "text": [
      "Train Input shape (PM): (435, 5, 6), Target shape: (435,)\n",
      "Test Input shape (PM): (59, 5, 6), Target shape: (59,)\n"
     ]
    }
   ],
   "source": [
    "# Example: Print shapes for a specific company\n",
    "company = \"PM\"\n",
    "print(f\"Train Input shape ({company}): {X_train_dict[company].shape}, Target shape: {y_train_dict[company].shape}\")\n",
    "print(f\"Test Input shape ({company}): {X_test_dict[company].shape}, Target shape: {y_test_dict[company].shape}\")"
   ]
  },
  {
   "cell_type": "code",
   "execution_count": 7,
   "metadata": {},
   "outputs": [
    {
     "name": "stdout",
     "output_type": "stream",
     "text": [
      "Company: GMRE - Train Input shape issue: (0,)\n",
      "Company: GMRE - Test Input shape issue: (0,)\n"
     ]
    }
   ],
   "source": [
    "# Loop through each company and check if the shape is not [n, 5, 6] for train and test\n",
    "for company in X_train_dict.keys():\n",
    "    X_train = X_train_dict[company]\n",
    "    y_train = y_train_dict[company]\n",
    "    X_test = X_test_dict[company]\n",
    "    y_test = y_test_dict[company]\n",
    "\n",
    "    if len(X_train.shape) != 3 or X_train.shape[1:] != (5, 6):\n",
    "        print(f\"Company: {company} - Train Input shape issue: {X_train.shape}\")\n",
    "    if len(X_test.shape) != 3 or X_test.shape[1:] != (5, 6):\n",
    "        print(f\"Company: {company} - Test Input shape issue: {X_test.shape}\")\n"
   ]
  },
  {
   "cell_type": "code",
   "execution_count": 8,
   "metadata": {},
   "outputs": [
    {
     "data": {
      "text/plain": [
       "array([], dtype=float64)"
      ]
     },
     "execution_count": 8,
     "metadata": {},
     "output_type": "execute_result"
    }
   ],
   "source": [
    "X_train_dict.pop(\"GMRE\")\n",
    "X_test_dict.pop(\"GMRE\")"
   ]
  },
  {
   "cell_type": "code",
   "execution_count": null,
   "metadata": {},
   "outputs": [],
   "source": []
  },
  {
   "cell_type": "code",
   "execution_count": 9,
   "metadata": {},
   "outputs": [],
   "source": [
    "from tensorflow.keras.models import Sequential\n",
    "from tensorflow.keras.layers import SimpleRNN, Dense\n",
    "from tensorflow.keras.optimizers import Adam"
   ]
  },
  {
   "cell_type": "code",
   "execution_count": 10,
   "metadata": {},
   "outputs": [
    {
     "name": "stderr",
     "output_type": "stream",
     "text": [
      "c:\\Users\\Otto9\\Skrivebord\\stocknet-project-ikt450\\env\\Lib\\site-packages\\keras\\src\\layers\\rnn\\rnn.py:204: UserWarning: Do not pass an `input_shape`/`input_dim` argument to a layer. When using Sequential models, prefer using an `Input(shape)` object as the first layer in the model instead.\n",
      "  super().__init__(**kwargs)\n"
     ]
    }
   ],
   "source": [
    "model = Sequential([\n",
    "    SimpleRNN(32, activation='relu', input_shape=(5, 6)),  # RNN layer with 32 units\n",
    "    Dense(1, activation='sigmoid')  # Output layer for binary classification\n",
    "])\n",
    "model.compile(optimizer=Adam(learning_rate=0.001),\n",
    "              loss='binary_crossentropy',\n",
    "              metrics=['accuracy'])"
   ]
  },
  {
   "cell_type": "code",
   "execution_count": 11,
   "metadata": {},
   "outputs": [
    {
     "name": "stderr",
     "output_type": "stream",
     "text": [
      "Training and Evaluating Companies: 100%|██████████| 87/87 [01:08<00:00,  1.28it/s]\n"
     ]
    }
   ],
   "source": [
    "from tqdm import tqdm\n",
    "\n",
    "# Initialize a dictionary to store results for each company\n",
    "results = {}\n",
    "\n",
    "# Train the model for each company in the training dictionary\n",
    "for company in tqdm(X_train_dict.keys(), desc=\"Training and Evaluating Companies\"):\n",
    "    # Get the training and testing data for the current company\n",
    "    X_train = X_train_dict[company]\n",
    "    y_train = y_train_dict[company]\n",
    "    X_test = X_test_dict[company]\n",
    "    y_test = y_test_dict[company]\n",
    "\n",
    "    # Train the model\n",
    "    model.fit(X_train, y_train, epochs=10, batch_size=16, validation_split=0, verbose=0)\n",
    "\n",
    "    # Evaluate the model\n",
    "    loss, accuracy = model.evaluate(X_test, y_test, verbose=0)\n",
    "\n",
    "    # Store the results\n",
    "    results[company] = {\"loss\": loss, \"accuracy\": accuracy}\n",
    "\n",
    "    # Print progress for the current company\n",
    "    #print(f\"{company}: Loss = {loss:.4f}, Accuracy = {accuracy:.4f}\")\n",
    "\n",
    "# Print final results\n",
    "#print(\"\\nFinal Results:\")\n",
    "#for company, metrics in results.items():\n",
    "    #print(f\"{company}: Loss = {metrics['loss']:.4f}, Accuracy = {metrics['accuracy']:.4f}\")\n"
   ]
  },
  {
   "cell_type": "code",
   "execution_count": 16,
   "metadata": {},
   "outputs": [
    {
     "name": "stdout",
     "output_type": "stream",
     "text": [
      "\u001b[1m2/2\u001b[0m \u001b[32m━━━━━━━━━━━━━━━━━━━━\u001b[0m\u001b[37m\u001b[0m \u001b[1m0s\u001b[0m 0s/step  \n"
     ]
    },
    {
     "data": {
      "image/png": "[encoded data removed]",
      "text/plain": [
       "<Figure size 2000x400 with 2 Axes>"
      ]
     },
     "metadata": {},
     "output_type": "display_data"
    }
   ],
   "source": [
    "import matplotlib.pyplot as plt\n",
    "import numpy as np\n",
    "\n",
    "# Generate a grid visualization of the original data\n",
    "def plot_stock_movements(data, predictions=None):\n",
    "    \"\"\"\n",
    "    Visualize stock movements with a straight-line grid.\n",
    "    Blue for increase, Red for decrease.\n",
    "\n",
    "    Parameters:\n",
    "        data (array): The actual stock movement labels (1 for up, 0 for down).\n",
    "        predictions (array): Model's predicted stock movement (optional).\n",
    "    \"\"\"\n",
    "    num_days = len(data)\n",
    "    fig, axes = plt.subplots(2 if predictions is not None else 1, 1, figsize=(20, 4))\n",
    "\n",
    "    # Actual movements\n",
    "    ax = axes[0] if predictions is not None else axes\n",
    "    ax.imshow(data.reshape(1, -1), cmap=\"bwr\", aspect=\"auto\", interpolation=\"none\")\n",
    "    #ax.set_title(\"Actual Stock Movements (Blue: Up, Red: Down)\")\n",
    "    ax.set_yticks([])\n",
    "    #ax.set_xticks(np.arange(num_days))\n",
    "    #ax.set_xticklabels([f\"Day {i+1}\" for i in range(num_days)], rotation=90)\n",
    "\n",
    "    # Predicted movements (if provided)\n",
    "    if predictions is not None:\n",
    "        ax_pred = axes[1]\n",
    "        ax_pred.imshow(predictions.reshape(1, -1), cmap=\"bwr\", aspect=\"auto\", interpolation=\"none\")\n",
    "        ax_pred.set_title(\"Predicted Stock Movements (Blue: Up, Red: Down)\")\n",
    "        ax_pred.set_yticks([])\n",
    "        #ax_pred.set_xticks(np.arange(num_days))\n",
    "        #ax_pred.set_xticklabels([f\"Day {i+1}\" for i in range(num_days)], rotation=90)\n",
    "\n",
    "    plt.tight_layout()\n",
    "    plt.show()\n",
    "\n",
    "# Use the model to predict the entire dataset\n",
    "predictions = model.predict(X_test)\n",
    "predicted_classes = (predictions > 0.5).astype(int).flatten()\n",
    "\n",
    "# Visualize actual and predicted movements\n",
    "plot_stock_movements(y_test, predicted_classes)\n"
   ]
  },
  {
   "cell_type": "code",
   "execution_count": 14,
   "metadata": {},
   "outputs": [
    {
     "name": "stdout",
     "output_type": "stream",
     "text": [
      "Accuracy: 52.54% (31/59 correct)\n"
     ]
    },
    {
     "name": "stderr",
     "output_type": "stream",
     "text": [
      "C:\\Users\\Otto9\\AppData\\Local\\Temp\\ipykernel_22120\\1558021621.py:25: UserWarning: set_ticklabels() should only be used with a fixed number of ticks, i.e. after set_ticks() or using a FixedLocator.\n",
      "  ax.set_xticklabels([f\"Day {i+1}\" for i in range(num_days)], rotation=90)\n"
     ]
    },
    {
     "data": {
      "image/png": "[encoded data removed]",
      "text/plain": [
       "<Figure size 2000x200 with 1 Axes>"
      ]
     },
     "metadata": {},
     "output_type": "display_data"
    }
   ],
   "source": [
    "def plot_comparison_with_accuracy(actual, predictions):\n",
    "    \"\"\"\n",
    "    Visualize comparison between actual and predicted stock movements.\n",
    "    Blue if the prediction is correct, Red if it's wrong.\n",
    "    Prints the percentage of correctly identified cases.\n",
    "\n",
    "    Parameters:\n",
    "        actual (array): The actual stock movement labels (1 for up, 0 for down).\n",
    "        predictions (array): Model's predicted stock movement.\n",
    "    \"\"\"\n",
    "    # Calculate correctness\n",
    "    comparison = (actual == predictions).astype(int)  # 1 if correct, 0 if wrong\n",
    "    accuracy = np.mean(comparison) * 100  # Calculate accuracy percentage\n",
    "\n",
    "    # Print accuracy\n",
    "    print(f\"Accuracy: {accuracy:.2f}% ({np.sum(comparison)}/{len(actual)} correct)\")\n",
    "\n",
    "    # Create the grid visualization\n",
    "    num_days = len(actual)\n",
    "    fig, ax = plt.subplots(figsize=(20, 2))\n",
    "    ax.imshow(comparison.reshape(1, -1), cmap=\"bwr\", aspect=\"auto\", interpolation=\"none\")\n",
    "    ax.set_title(\"Prediction Accuracy (Blue: Correct, Red: Wrong)\")\n",
    "    ax.set_yticks([])\n",
    "    #ax.set_xticks(np.arange(num_days))\n",
    "    ax.set_xticklabels([f\"Day {i+1}\" for i in range(num_days)], rotation=90)\n",
    "\n",
    "    plt.tight_layout()\n",
    "    plt.show()\n",
    "\n",
    "# Visualize comparison and print accuracy\n",
    "plot_comparison_with_accuracy(y_test, predicted_classes)\n"
   ]
  },
  {
   "cell_type": "code",
   "execution_count": null,
   "metadata": {},
   "outputs": [
    {
     "name": "stderr",
     "output_type": "stream",
     "text": [
      "Evaluating Companies:   0%|          | 0/87 [00:00<?, ?it/s]"
     ]
    },
    {
     "name": "stdout",
     "output_type": "stream",
     "text": [
      "\u001b[1m2/2\u001b[0m \u001b[32m━━━━━━━━━━━━━━━━━━━━\u001b[0m\u001b[37m\u001b[0m \u001b[1m0s\u001b[0m 5ms/step \n",
      "\u001b[1m2/2\u001b[0m \u001b[32m━━━━━━━━━━━━━━━━━━━━\u001b[0m\u001b[37m\u001b[0m \u001b[1m0s\u001b[0m 3ms/step \n"
     ]
    },
    {
     "name": "stderr",
     "output_type": "stream",
     "text": [
      "Evaluating Companies:   2%|▏         | 2/87 [00:00<00:06, 12.41it/s]"
     ]
    },
    {
     "name": "stdout",
     "output_type": "stream",
     "text": [
      "\u001b[1m2/2\u001b[0m \u001b[32m━━━━━━━━━━━━━━━━━━━━\u001b[0m\u001b[37m\u001b[0m \u001b[1m0s\u001b[0m 5ms/step \n",
      "\u001b[1m2/2\u001b[0m \u001b[32m━━━━━━━━━━━━━━━━━━━━\u001b[0m\u001b[37m\u001b[0m \u001b[1m0s\u001b[0m 0s/step  \n"
     ]
    },
    {
     "name": "stderr",
     "output_type": "stream",
     "text": [
      "Evaluating Companies:   5%|▍         | 4/87 [00:00<00:06, 13.25it/s]"
     ]
    },
    {
     "name": "stdout",
     "output_type": "stream",
     "text": [
      "\u001b[1m2/2\u001b[0m \u001b[32m━━━━━━━━━━━━━━━━━━━━\u001b[0m\u001b[37m\u001b[0m \u001b[1m0s\u001b[0m 4ms/step \n",
      "\u001b[1m2/2\u001b[0m \u001b[32m━━━━━━━━━━━━━━━━━━━━\u001b[0m\u001b[37m\u001b[0m \u001b[1m0s\u001b[0m 2ms/step \n"
     ]
    },
    {
     "name": "stderr",
     "output_type": "stream",
     "text": [
      "Evaluating Companies:   7%|▋         | 6/87 [00:00<00:06, 13.28it/s]"
     ]
    },
    {
     "name": "stdout",
     "output_type": "stream",
     "text": [
      "\u001b[1m2/2\u001b[0m \u001b[32m━━━━━━━━━━━━━━━━━━━━\u001b[0m\u001b[37m\u001b[0m \u001b[1m0s\u001b[0m 3ms/step \n",
      "\u001b[1m2/2\u001b[0m \u001b[32m━━━━━━━━━━━━━━━━━━━━\u001b[0m\u001b[37m\u001b[0m \u001b[1m0s\u001b[0m 2ms/step \n"
     ]
    },
    {
     "name": "stderr",
     "output_type": "stream",
     "text": [
      "Evaluating Companies:   9%|▉         | 8/87 [00:00<00:06, 11.95it/s]"
     ]
    },
    {
     "name": "stdout",
     "output_type": "stream",
     "text": [
      "\u001b[1m2/2\u001b[0m \u001b[32m━━━━━━━━━━━━━━━━━━━━\u001b[0m\u001b[37m\u001b[0m \u001b[1m0s\u001b[0m 3ms/step \n",
      "\u001b[1m2/2\u001b[0m \u001b[32m━━━━━━━━━━━━━━━━━━━━\u001b[0m\u001b[37m\u001b[0m \u001b[1m0s\u001b[0m 5ms/step \n"
     ]
    },
    {
     "name": "stderr",
     "output_type": "stream",
     "text": [
      "Evaluating Companies:  11%|█▏        | 10/87 [00:00<00:06, 12.41it/s]"
     ]
    },
    {
     "name": "stdout",
     "output_type": "stream",
     "text": [
      "\u001b[1m2/2\u001b[0m \u001b[32m━━━━━━━━━━━━━━━━━━━━\u001b[0m\u001b[37m\u001b[0m \u001b[1m0s\u001b[0m 4ms/step \n",
      "\u001b[1m2/2\u001b[0m \u001b[32m━━━━━━━━━━━━━━━━━━━━\u001b[0m\u001b[37m\u001b[0m \u001b[1m0s\u001b[0m 0s/step  \n"
     ]
    },
    {
     "name": "stderr",
     "output_type": "stream",
     "text": [
      "Evaluating Companies:  14%|█▍        | 12/87 [00:00<00:05, 13.69it/s]"
     ]
    },
    {
     "name": "stdout",
     "output_type": "stream",
     "text": [
      "\u001b[1m2/2\u001b[0m \u001b[32m━━━━━━━━━━━━━━━━━━━━\u001b[0m\u001b[37m\u001b[0m \u001b[1m0s\u001b[0m 13ms/step\n",
      "\u001b[1m2/2\u001b[0m \u001b[32m━━━━━━━━━━━━━━━━━━━━\u001b[0m\u001b[37m\u001b[0m \u001b[1m0s\u001b[0m 7ms/step \n"
     ]
    },
    {
     "name": "stderr",
     "output_type": "stream",
     "text": [
      "Evaluating Companies:  16%|█▌        | 14/87 [00:01<00:05, 14.20it/s]"
     ]
    },
    {
     "name": "stdout",
     "output_type": "stream",
     "text": [
      "\u001b[1m2/2\u001b[0m \u001b[32m━━━━━━━━━━━━━━━━━━━━\u001b[0m\u001b[37m\u001b[0m \u001b[1m0s\u001b[0m 5ms/step \n",
      "\u001b[1m2/2\u001b[0m \u001b[32m━━━━━━━━━━━━━━━━━━━━\u001b[0m\u001b[37m\u001b[0m \u001b[1m0s\u001b[0m 5ms/step \n"
     ]
    },
    {
     "name": "stderr",
     "output_type": "stream",
     "text": [
      "Evaluating Companies:  18%|█▊        | 16/87 [00:01<00:05, 14.01it/s]"
     ]
    },
    {
     "name": "stdout",
     "output_type": "stream",
     "text": [
      "\u001b[1m2/2\u001b[0m \u001b[32m━━━━━━━━━━━━━━━━━━━━\u001b[0m\u001b[37m\u001b[0m \u001b[1m0s\u001b[0m 10ms/step\n",
      "\u001b[1m2/2\u001b[0m \u001b[32m━━━━━━━━━━━━━━━━━━━━\u001b[0m\u001b[37m\u001b[0m \u001b[1m0s\u001b[0m 1ms/step \n"
     ]
    },
    {
     "name": "stderr",
     "output_type": "stream",
     "text": [
      "Evaluating Companies:  21%|██        | 18/87 [00:01<00:04, 13.92it/s]"
     ]
    },
    {
     "name": "stdout",
     "output_type": "stream",
     "text": [
      "\u001b[1m2/2\u001b[0m \u001b[32m━━━━━━━━━━━━━━━━━━━━\u001b[0m\u001b[37m\u001b[0m \u001b[1m0s\u001b[0m 3ms/step \n",
      "\u001b[1m2/2\u001b[0m \u001b[32m━━━━━━━━━━━━━━━━━━━━\u001b[0m\u001b[37m\u001b[0m \u001b[1m0s\u001b[0m 5ms/step \n"
     ]
    },
    {
     "name": "stderr",
     "output_type": "stream",
     "text": [
      "Evaluating Companies:  23%|██▎       | 20/87 [00:01<00:04, 13.41it/s]"
     ]
    },
    {
     "name": "stdout",
     "output_type": "stream",
     "text": [
      "\u001b[1m2/2\u001b[0m \u001b[32m━━━━━━━━━━━━━━━━━━━━\u001b[0m\u001b[37m\u001b[0m \u001b[1m0s\u001b[0m 7ms/step \n",
      "\u001b[1m2/2\u001b[0m \u001b[32m━━━━━━━━━━━━━━━━━━━━\u001b[0m\u001b[37m\u001b[0m \u001b[1m0s\u001b[0m 3ms/step \n"
     ]
    },
    {
     "name": "stderr",
     "output_type": "stream",
     "text": [
      "Evaluating Companies:  25%|██▌       | 22/87 [00:01<00:04, 13.28it/s]"
     ]
    },
    {
     "name": "stdout",
     "output_type": "stream",
     "text": [
      "\u001b[1m2/2\u001b[0m \u001b[32m━━━━━━━━━━━━━━━━━━━━\u001b[0m\u001b[37m\u001b[0m \u001b[1m0s\u001b[0m 9ms/step \n",
      "\u001b[1m2/2\u001b[0m \u001b[32m━━━━━━━━━━━━━━━━━━━━\u001b[0m\u001b[37m\u001b[0m \u001b[1m0s\u001b[0m 3ms/step \n"
     ]
    },
    {
     "name": "stderr",
     "output_type": "stream",
     "text": [
      "Evaluating Companies:  28%|██▊       | 24/87 [00:01<00:04, 12.84it/s]"
     ]
    },
    {
     "name": "stdout",
     "output_type": "stream",
     "text": [
      "\u001b[1m2/2\u001b[0m \u001b[32m━━━━━━━━━━━━━━━━━━━━\u001b[0m\u001b[37m\u001b[0m \u001b[1m0s\u001b[0m 0s/step  \n",
      "\u001b[1m2/2\u001b[0m \u001b[32m━━━━━━━━━━━━━━━━━━━━\u001b[0m\u001b[37m\u001b[0m \u001b[1m0s\u001b[0m 3ms/step \n"
     ]
    },
    {
     "name": "stderr",
     "output_type": "stream",
     "text": [
      "Evaluating Companies:  30%|██▉       | 26/87 [00:01<00:04, 12.55it/s]"
     ]
    },
    {
     "name": "stdout",
     "output_type": "stream",
     "text": [
      "\u001b[1m2/2\u001b[0m \u001b[32m━━━━━━━━━━━━━━━━━━━━\u001b[0m\u001b[37m\u001b[0m \u001b[1m0s\u001b[0m 3ms/step \n",
      "\u001b[1m2/2\u001b[0m \u001b[32m━━━━━━━━━━━━━━━━━━━━\u001b[0m\u001b[37m\u001b[0m \u001b[1m0s\u001b[0m 5ms/step \n"
     ]
    },
    {
     "name": "stderr",
     "output_type": "stream",
     "text": [
      "Evaluating Companies:  32%|███▏      | 28/87 [00:02<00:04, 12.62it/s]"
     ]
    },
    {
     "name": "stdout",
     "output_type": "stream",
     "text": [
      "\u001b[1m2/2\u001b[0m \u001b[32m━━━━━━━━━━━━━━━━━━━━\u001b[0m\u001b[37m\u001b[0m \u001b[1m0s\u001b[0m 4ms/step \n",
      "\u001b[1m2/2\u001b[0m \u001b[32m━━━━━━━━━━━━━━━━━━━━\u001b[0m\u001b[37m\u001b[0m \u001b[1m0s\u001b[0m 5ms/step \n"
     ]
    },
    {
     "name": "stderr",
     "output_type": "stream",
     "text": [
      "Evaluating Companies:  34%|███▍      | 30/87 [00:02<00:04, 11.61it/s]"
     ]
    },
    {
     "name": "stdout",
     "output_type": "stream",
     "text": [
      "\u001b[1m2/2\u001b[0m \u001b[32m━━━━━━━━━━━━━━━━━━━━\u001b[0m\u001b[37m\u001b[0m \u001b[1m0s\u001b[0m 3ms/step \n",
      "\u001b[1m2/2\u001b[0m \u001b[32m━━━━━━━━━━━━━━━━━━━━\u001b[0m\u001b[37m\u001b[0m \u001b[1m0s\u001b[0m 4ms/step \n"
     ]
    },
    {
     "name": "stderr",
     "output_type": "stream",
     "text": [
      "Evaluating Companies:  37%|███▋      | 32/87 [00:02<00:04, 11.70it/s]"
     ]
    },
    {
     "name": "stdout",
     "output_type": "stream",
     "text": [
      "\u001b[1m2/2\u001b[0m \u001b[32m━━━━━━━━━━━━━━━━━━━━\u001b[0m\u001b[37m\u001b[0m \u001b[1m0s\u001b[0m 0s/step  \n",
      "\u001b[1m2/2\u001b[0m \u001b[32m━━━━━━━━━━━━━━━━━━━━\u001b[0m\u001b[37m\u001b[0m \u001b[1m0s\u001b[0m 3ms/step \n"
     ]
    },
    {
     "name": "stderr",
     "output_type": "stream",
     "text": [
      "Evaluating Companies:  39%|███▉      | 34/87 [00:02<00:04, 12.44it/s]"
     ]
    },
    {
     "name": "stdout",
     "output_type": "stream",
     "text": [
      "\u001b[1m2/2\u001b[0m \u001b[32m━━━━━━━━━━━━━━━━━━━━\u001b[0m\u001b[37m\u001b[0m \u001b[1m0s\u001b[0m 2ms/step \n",
      "\u001b[1m2/2\u001b[0m \u001b[32m━━━━━━━━━━━━━━━━━━━━\u001b[0m\u001b[37m\u001b[0m \u001b[1m0s\u001b[0m 10ms/step\n"
     ]
    },
    {
     "name": "stderr",
     "output_type": "stream",
     "text": [
      "Evaluating Companies:  41%|████▏     | 36/87 [00:02<00:03, 12.96it/s]"
     ]
    },
    {
     "name": "stdout",
     "output_type": "stream",
     "text": [
      "\u001b[1m2/2\u001b[0m \u001b[32m━━━━━━━━━━━━━━━━━━━━\u001b[0m\u001b[37m\u001b[0m \u001b[1m0s\u001b[0m 0s/step  \n",
      "\u001b[1m2/2\u001b[0m \u001b[32m━━━━━━━━━━━━━━━━━━━━\u001b[0m\u001b[37m\u001b[0m \u001b[1m0s\u001b[0m 0s/step  \n"
     ]
    },
    {
     "name": "stderr",
     "output_type": "stream",
     "text": [
      "Evaluating Companies:  44%|████▎     | 38/87 [00:02<00:03, 13.62it/s]"
     ]
    },
    {
     "name": "stdout",
     "output_type": "stream",
     "text": [
      "\u001b[1m2/2\u001b[0m \u001b[32m━━━━━━━━━━━━━━━━━━━━\u001b[0m\u001b[37m\u001b[0m \u001b[1m0s\u001b[0m 763us/step\n",
      "\u001b[1m2/2\u001b[0m \u001b[32m━━━━━━━━━━━━━━━━━━━━\u001b[0m\u001b[37m\u001b[0m \u001b[1m0s\u001b[0m 4ms/step \n"
     ]
    },
    {
     "name": "stderr",
     "output_type": "stream",
     "text": [
      "Evaluating Companies:  46%|████▌     | 40/87 [00:03<00:03, 14.20it/s]"
     ]
    },
    {
     "name": "stdout",
     "output_type": "stream",
     "text": [
      "\u001b[1m2/2\u001b[0m \u001b[32m━━━━━━━━━━━━━━━━━━━━\u001b[0m\u001b[37m\u001b[0m \u001b[1m0s\u001b[0m 3ms/step \n",
      "\u001b[1m2/2\u001b[0m \u001b[32m━━━━━━━━━━━━━━━━━━━━\u001b[0m\u001b[37m\u001b[0m \u001b[1m0s\u001b[0m 2ms/step \n"
     ]
    },
    {
     "name": "stderr",
     "output_type": "stream",
     "text": [
      "Evaluating Companies:  48%|████▊     | 42/87 [00:03<00:02, 15.28it/s]"
     ]
    },
    {
     "name": "stdout",
     "output_type": "stream",
     "text": [
      "\u001b[1m2/2\u001b[0m \u001b[32m━━━━━━━━━━━━━━━━━━━━\u001b[0m\u001b[37m\u001b[0m \u001b[1m0s\u001b[0m 9ms/step \n",
      "\u001b[1m2/2\u001b[0m \u001b[32m━━━━━━━━━━━━━━━━━━━━\u001b[0m\u001b[37m\u001b[0m \u001b[1m0s\u001b[0m 0s/step  \n"
     ]
    },
    {
     "name": "stderr",
     "output_type": "stream",
     "text": [
      "Evaluating Companies:  51%|█████     | 44/87 [00:03<00:02, 15.48it/s]"
     ]
    },
    {
     "name": "stdout",
     "output_type": "stream",
     "text": [
      "\u001b[1m2/2\u001b[0m \u001b[32m━━━━━━━━━━━━━━━━━━━━\u001b[0m\u001b[37m\u001b[0m \u001b[1m0s\u001b[0m 4ms/step \n",
      "\u001b[1m2/2\u001b[0m \u001b[32m━━━━━━━━━━━━━━━━━━━━\u001b[0m\u001b[37m\u001b[0m \u001b[1m0s\u001b[0m 4ms/step \n"
     ]
    },
    {
     "name": "stderr",
     "output_type": "stream",
     "text": [
      "Evaluating Companies:  53%|█████▎    | 46/87 [00:03<00:02, 15.62it/s]"
     ]
    },
    {
     "name": "stdout",
     "output_type": "stream",
     "text": [
      "\u001b[1m2/2\u001b[0m \u001b[32m━━━━━━━━━━━━━━━━━━━━\u001b[0m\u001b[37m\u001b[0m \u001b[1m0s\u001b[0m 3ms/step \n",
      "\u001b[1m2/2\u001b[0m \u001b[32m━━━━━━━━━━━━━━━━━━━━\u001b[0m\u001b[37m\u001b[0m \u001b[1m0s\u001b[0m 0s/step  \n"
     ]
    },
    {
     "name": "stderr",
     "output_type": "stream",
     "text": [
      "Evaluating Companies:  55%|█████▌    | 48/87 [00:03<00:02, 15.60it/s]"
     ]
    },
    {
     "name": "stdout",
     "output_type": "stream",
     "text": [
      "\u001b[1m2/2\u001b[0m \u001b[32m━━━━━━━━━━━━━━━━━━━━\u001b[0m\u001b[37m\u001b[0m \u001b[1m0s\u001b[0m 3ms/step \n",
      "\u001b[1m2/2\u001b[0m \u001b[32m━━━━━━━━━━━━━━━━━━━━\u001b[0m\u001b[37m\u001b[0m \u001b[1m0s\u001b[0m 4ms/step \n"
     ]
    },
    {
     "name": "stderr",
     "output_type": "stream",
     "text": [
      "Evaluating Companies:  57%|█████▋    | 50/87 [00:03<00:02, 15.81it/s]"
     ]
    },
    {
     "name": "stdout",
     "output_type": "stream",
     "text": [
      "\u001b[1m2/2\u001b[0m \u001b[32m━━━━━━━━━━━━━━━━━━━━\u001b[0m\u001b[37m\u001b[0m \u001b[1m0s\u001b[0m 5ms/step \n",
      "\u001b[1m2/2\u001b[0m \u001b[32m━━━━━━━━━━━━━━━━━━━━\u001b[0m\u001b[37m\u001b[0m \u001b[1m0s\u001b[0m 4ms/step \n"
     ]
    },
    {
     "name": "stderr",
     "output_type": "stream",
     "text": [
      "Evaluating Companies:  60%|█████▉    | 52/87 [00:03<00:02, 15.51it/s]"
     ]
    },
    {
     "name": "stdout",
     "output_type": "stream",
     "text": [
      "\u001b[1m2/2\u001b[0m \u001b[32m━━━━━━━━━━━━━━━━━━━━\u001b[0m\u001b[37m\u001b[0m \u001b[1m0s\u001b[0m 3ms/step \n",
      "\u001b[1m2/2\u001b[0m \u001b[32m━━━━━━━━━━━━━━━━━━━━\u001b[0m\u001b[37m\u001b[0m \u001b[1m0s\u001b[0m 0s/step  \n"
     ]
    },
    {
     "name": "stderr",
     "output_type": "stream",
     "text": [
      "Evaluating Companies:  62%|██████▏   | 54/87 [00:03<00:02, 14.38it/s]"
     ]
    },
    {
     "name": "stdout",
     "output_type": "stream",
     "text": [
      "\u001b[1m2/2\u001b[0m \u001b[32m━━━━━━━━━━━━━━━━━━━━\u001b[0m\u001b[37m\u001b[0m \u001b[1m0s\u001b[0m 0s/step  \n",
      "\u001b[1m2/2\u001b[0m \u001b[32m━━━━━━━━━━━━━━━━━━━━\u001b[0m\u001b[37m\u001b[0m \u001b[1m0s\u001b[0m 4ms/step \n"
     ]
    },
    {
     "name": "stderr",
     "output_type": "stream",
     "text": [
      "Evaluating Companies:  64%|██████▍   | 56/87 [00:04<00:02, 14.74it/s]"
     ]
    },
    {
     "name": "stdout",
     "output_type": "stream",
     "text": [
      "\u001b[1m2/2\u001b[0m \u001b[32m━━━━━━━━━━━━━━━━━━━━\u001b[0m\u001b[37m\u001b[0m \u001b[1m0s\u001b[0m 0s/step  \n",
      "\u001b[1m2/2\u001b[0m \u001b[32m━━━━━━━━━━━━━━━━━━━━\u001b[0m\u001b[37m\u001b[0m \u001b[1m0s\u001b[0m 4ms/step \n"
     ]
    },
    {
     "name": "stderr",
     "output_type": "stream",
     "text": [
      "Evaluating Companies:  67%|██████▋   | 58/87 [00:04<00:02, 14.37it/s]"
     ]
    },
    {
     "name": "stdout",
     "output_type": "stream",
     "text": [
      "\u001b[1m2/2\u001b[0m \u001b[32m━━━━━━━━━━━━━━━━━━━━\u001b[0m\u001b[37m\u001b[0m \u001b[1m0s\u001b[0m 11ms/step\n",
      "\u001b[1m2/2\u001b[0m \u001b[32m━━━━━━━━━━━━━━━━━━━━\u001b[0m\u001b[37m\u001b[0m \u001b[1m0s\u001b[0m 4ms/step \n"
     ]
    },
    {
     "name": "stderr",
     "output_type": "stream",
     "text": [
      "Evaluating Companies:  69%|██████▉   | 60/87 [00:04<00:01, 15.04it/s]"
     ]
    },
    {
     "name": "stdout",
     "output_type": "stream",
     "text": [
      "\u001b[1m2/2\u001b[0m \u001b[32m━━━━━━━━━━━━━━━━━━━━\u001b[0m\u001b[37m\u001b[0m \u001b[1m0s\u001b[0m 4ms/step \n",
      "\u001b[1m2/2\u001b[0m \u001b[32m━━━━━━━━━━━━━━━━━━━━\u001b[0m\u001b[37m\u001b[0m \u001b[1m0s\u001b[0m 3ms/step \n"
     ]
    },
    {
     "name": "stderr",
     "output_type": "stream",
     "text": [
      "Evaluating Companies:  71%|███████▏  | 62/87 [00:04<00:01, 15.09it/s]"
     ]
    },
    {
     "name": "stdout",
     "output_type": "stream",
     "text": [
      "\u001b[1m2/2\u001b[0m \u001b[32m━━━━━━━━━━━━━━━━━━━━\u001b[0m\u001b[37m\u001b[0m \u001b[1m0s\u001b[0m 3ms/step \n",
      "\u001b[1m2/2\u001b[0m \u001b[32m━━━━━━━━━━━━━━━━━━━━\u001b[0m\u001b[37m\u001b[0m \u001b[1m0s\u001b[0m 4ms/step \n"
     ]
    },
    {
     "name": "stderr",
     "output_type": "stream",
     "text": [
      "Evaluating Companies:  74%|███████▎  | 64/87 [00:04<00:01, 14.77it/s]"
     ]
    },
    {
     "name": "stdout",
     "output_type": "stream",
     "text": [
      "\u001b[1m2/2\u001b[0m \u001b[32m━━━━━━━━━━━━━━━━━━━━\u001b[0m\u001b[37m\u001b[0m \u001b[1m0s\u001b[0m 17ms/step\n",
      "\u001b[1m2/2\u001b[0m \u001b[32m━━━━━━━━━━━━━━━━━━━━\u001b[0m\u001b[37m\u001b[0m \u001b[1m0s\u001b[0m 6ms/step \n"
     ]
    },
    {
     "name": "stderr",
     "output_type": "stream",
     "text": [
      "Evaluating Companies:  76%|███████▌  | 66/87 [00:04<00:01, 13.41it/s]"
     ]
    },
    {
     "name": "stdout",
     "output_type": "stream",
     "text": [
      "\u001b[1m2/2\u001b[0m \u001b[32m━━━━━━━━━━━━━━━━━━━━\u001b[0m\u001b[37m\u001b[0m \u001b[1m0s\u001b[0m 0s/step  \n",
      "\u001b[1m2/2\u001b[0m \u001b[32m━━━━━━━━━━━━━━━━━━━━\u001b[0m\u001b[37m\u001b[0m \u001b[1m0s\u001b[0m 12ms/step\n"
     ]
    },
    {
     "name": "stderr",
     "output_type": "stream",
     "text": [
      "Evaluating Companies:  78%|███████▊  | 68/87 [00:04<00:01, 13.69it/s]"
     ]
    },
    {
     "name": "stdout",
     "output_type": "stream",
     "text": [
      "\u001b[1m2/2\u001b[0m \u001b[32m━━━━━━━━━━━━━━━━━━━━\u001b[0m\u001b[37m\u001b[0m \u001b[1m0s\u001b[0m 5ms/step \n",
      "\u001b[1m2/2\u001b[0m \u001b[32m━━━━━━━━━━━━━━━━━━━━\u001b[0m\u001b[37m\u001b[0m \u001b[1m0s\u001b[0m 4ms/step \n"
     ]
    },
    {
     "name": "stderr",
     "output_type": "stream",
     "text": [
      "Evaluating Companies:  80%|████████  | 70/87 [00:05<00:01, 13.96it/s]"
     ]
    },
    {
     "name": "stdout",
     "output_type": "stream",
     "text": [
      "\u001b[1m2/2\u001b[0m \u001b[32m━━━━━━━━━━━━━━━━━━━━\u001b[0m\u001b[37m\u001b[0m \u001b[1m0s\u001b[0m 10ms/step\n",
      "\u001b[1m2/2\u001b[0m \u001b[32m━━━━━━━━━━━━━━━━━━━━\u001b[0m\u001b[37m\u001b[0m \u001b[1m0s\u001b[0m 3ms/step \n"
     ]
    },
    {
     "name": "stderr",
     "output_type": "stream",
     "text": [
      "Evaluating Companies:  83%|████████▎ | 72/87 [00:05<00:01, 14.60it/s]"
     ]
    },
    {
     "name": "stdout",
     "output_type": "stream",
     "text": [
      "\u001b[1m2/2\u001b[0m \u001b[32m━━━━━━━━━━━━━━━━━━━━\u001b[0m\u001b[37m\u001b[0m \u001b[1m0s\u001b[0m 3ms/step \n",
      "\u001b[1m2/2\u001b[0m \u001b[32m━━━━━━━━━━━━━━━━━━━━\u001b[0m\u001b[37m\u001b[0m \u001b[1m0s\u001b[0m 3ms/step \n"
     ]
    },
    {
     "name": "stderr",
     "output_type": "stream",
     "text": [
      "Evaluating Companies:  85%|████████▌ | 74/87 [00:05<00:00, 14.87it/s]"
     ]
    },
    {
     "name": "stdout",
     "output_type": "stream",
     "text": [
      "\u001b[1m2/2\u001b[0m \u001b[32m━━━━━━━━━━━━━━━━━━━━\u001b[0m\u001b[37m\u001b[0m \u001b[1m0s\u001b[0m 2ms/step \n",
      "\u001b[1m2/2\u001b[0m \u001b[32m━━━━━━━━━━━━━━━━━━━━\u001b[0m\u001b[37m\u001b[0m \u001b[1m0s\u001b[0m 3ms/step \n"
     ]
    },
    {
     "name": "stderr",
     "output_type": "stream",
     "text": [
      "Evaluating Companies:  87%|████████▋ | 76/87 [00:05<00:00, 15.32it/s]"
     ]
    },
    {
     "name": "stdout",
     "output_type": "stream",
     "text": [
      "\u001b[1m2/2\u001b[0m \u001b[32m━━━━━━━━━━━━━━━━━━━━\u001b[0m\u001b[37m\u001b[0m \u001b[1m0s\u001b[0m 20ms/step\n",
      "\u001b[1m2/2\u001b[0m \u001b[32m━━━━━━━━━━━━━━━━━━━━\u001b[0m\u001b[37m\u001b[0m \u001b[1m0s\u001b[0m 3ms/step \n"
     ]
    },
    {
     "name": "stderr",
     "output_type": "stream",
     "text": [
      "Evaluating Companies:  90%|████████▉ | 78/87 [00:05<00:00, 13.67it/s]"
     ]
    },
    {
     "name": "stdout",
     "output_type": "stream",
     "text": [
      "\u001b[1m2/2\u001b[0m \u001b[32m━━━━━━━━━━━━━━━━━━━━\u001b[0m\u001b[37m\u001b[0m \u001b[1m0s\u001b[0m 4ms/step \n",
      "\u001b[1m2/2\u001b[0m \u001b[32m━━━━━━━━━━━━━━━━━━━━\u001b[0m\u001b[37m\u001b[0m \u001b[1m0s\u001b[0m 3ms/step \n"
     ]
    },
    {
     "name": "stderr",
     "output_type": "stream",
     "text": [
      "Evaluating Companies:  92%|█████████▏| 80/87 [00:05<00:00, 14.04it/s]"
     ]
    },
    {
     "name": "stdout",
     "output_type": "stream",
     "text": [
      "\u001b[1m2/2\u001b[0m \u001b[32m━━━━━━━━━━━━━━━━━━━━\u001b[0m\u001b[37m\u001b[0m \u001b[1m0s\u001b[0m 3ms/step \n",
      "\u001b[1m2/2\u001b[0m \u001b[32m━━━━━━━━━━━━━━━━━━━━\u001b[0m\u001b[37m\u001b[0m \u001b[1m0s\u001b[0m 3ms/step \n"
     ]
    },
    {
     "name": "stderr",
     "output_type": "stream",
     "text": [
      "Evaluating Companies:  94%|█████████▍| 82/87 [00:05<00:00, 14.31it/s]"
     ]
    },
    {
     "name": "stdout",
     "output_type": "stream",
     "text": [
      "\u001b[1m2/2\u001b[0m \u001b[32m━━━━━━━━━━━━━━━━━━━━\u001b[0m\u001b[37m\u001b[0m \u001b[1m0s\u001b[0m 4ms/step \n",
      "\u001b[1m2/2\u001b[0m \u001b[32m━━━━━━━━━━━━━━━━━━━━\u001b[0m\u001b[37m\u001b[0m \u001b[1m0s\u001b[0m 4ms/step \n"
     ]
    },
    {
     "name": "stderr",
     "output_type": "stream",
     "text": [
      "Evaluating Companies:  97%|█████████▋| 84/87 [00:06<00:00, 14.81it/s]"
     ]
    },
    {
     "name": "stdout",
     "output_type": "stream",
     "text": [
      "\u001b[1m2/2\u001b[0m \u001b[32m━━━━━━━━━━━━━━━━━━━━\u001b[0m\u001b[37m\u001b[0m \u001b[1m0s\u001b[0m 3ms/step \n",
      "\u001b[1m2/2\u001b[0m \u001b[32m━━━━━━━━━━━━━━━━━━━━\u001b[0m\u001b[37m\u001b[0m \u001b[1m0s\u001b[0m 4ms/step \n"
     ]
    },
    {
     "name": "stderr",
     "output_type": "stream",
     "text": [
      "Evaluating Companies:  99%|█████████▉| 86/87 [00:06<00:00, 14.79it/s]"
     ]
    },
    {
     "name": "stdout",
     "output_type": "stream",
     "text": [
      "\u001b[1m2/2\u001b[0m \u001b[32m━━━━━━━━━━━━━━━━━━━━\u001b[0m\u001b[37m\u001b[0m \u001b[1m0s\u001b[0m 0s/step  \n"
     ]
    },
    {
     "name": "stderr",
     "output_type": "stream",
     "text": [
      "Evaluating Companies: 100%|██████████| 87/87 [00:06<00:00, 13.99it/s]"
     ]
    },
    {
     "name": "stdout",
     "output_type": "stream",
     "text": [
      "\n",
      "Summary of Metrics for All Companies:\n",
      "AAPL: Accuracy = 0.54, Precision = 0.00, Recall = 0.00, F1 Score = 0.00\n",
      "ABB: Accuracy = 0.64, Precision = 0.67, Recall = 0.09, F1 Score = 0.16\n",
      "ABBV: Accuracy = 0.47, Precision = 0.50, Recall = 0.06, F1 Score = 0.11\n",
      "AEP: Accuracy = 0.46, Precision = 0.00, Recall = 0.00, F1 Score = 0.00\n",
      "AGFS: Accuracy = 0.49, Precision = 0.23, Recall = 0.13, F1 Score = 0.17\n",
      "AMGN: Accuracy = 0.42, Precision = 1.00, Recall = 0.03, F1 Score = 0.06\n",
      "AMZN: Accuracy = 0.44, Precision = 0.67, Recall = 0.06, F1 Score = 0.11\n",
      "BA: Accuracy = 0.47, Precision = 0.60, Recall = 0.09, F1 Score = 0.16\n",
      "BABA: Accuracy = 0.46, Precision = 0.50, Recall = 0.09, F1 Score = 0.16\n",
      "BAC: Accuracy = 0.54, Precision = 0.00, Recall = 0.00, F1 Score = 0.00\n",
      "BBL: Accuracy = 0.58, Precision = 0.50, Recall = 0.08, F1 Score = 0.14\n",
      "BCH: Accuracy = 0.66, Precision = 0.80, Recall = 0.17, F1 Score = 0.29\n",
      "BHP: Accuracy = 0.56, Precision = 0.60, Recall = 0.11, F1 Score = 0.19\n",
      "BP: Accuracy = 0.64, Precision = 0.00, Recall = 0.00, F1 Score = 0.00\n",
      "BRK-A: Accuracy = 0.46, Precision = 0.39, Recall = 0.42, F1 Score = 0.41\n",
      "BSAC: Accuracy = 0.76, Precision = 0.60, Recall = 0.20, F1 Score = 0.30\n",
      "BUD: Accuracy = 0.47, Precision = 0.60, Recall = 0.09, F1 Score = 0.16\n",
      "C: Accuracy = 0.58, Precision = 0.50, Recall = 0.04, F1 Score = 0.07\n",
      "CAT: Accuracy = 0.51, Precision = 1.00, Recall = 0.03, F1 Score = 0.06\n",
      "CELG: Accuracy = 0.44, Precision = 0.33, Recall = 0.03, F1 Score = 0.06\n",
      "CHL: Accuracy = 0.54, Precision = 0.40, Recall = 0.08, F1 Score = 0.13\n",
      "CHTR: Accuracy = 0.46, Precision = 0.33, Recall = 0.07, F1 Score = 0.11\n",
      "CMCSA: Accuracy = 0.53, Precision = 0.50, Recall = 0.04, F1 Score = 0.07\n",
      "CODI: Accuracy = 0.73, Precision = 0.18, Recall = 0.22, F1 Score = 0.20\n",
      "CSCO: Accuracy = 0.56, Precision = 0.00, Recall = 0.00, F1 Score = 0.00\n",
      "CVX: Accuracy = 0.53, Precision = 0.67, Recall = 0.07, F1 Score = 0.12\n",
      "D: Accuracy = 0.54, Precision = 0.50, Recall = 0.04, F1 Score = 0.07\n",
      "DHR: Accuracy = 0.49, Precision = 0.67, Recall = 0.06, F1 Score = 0.12\n",
      "DIS: Accuracy = 0.42, Precision = 0.50, Recall = 0.09, F1 Score = 0.15\n",
      "DUK: Accuracy = 0.46, Precision = 0.50, Recall = 0.03, F1 Score = 0.06\n",
      "EXC: Accuracy = 0.63, Precision = 0.75, Recall = 0.12, F1 Score = 0.21\n",
      "FB: Accuracy = 0.41, Precision = 0.00, Recall = 0.00, F1 Score = 0.00\n",
      "GD: Accuracy = 0.49, Precision = 0.33, Recall = 0.03, F1 Score = 0.06\n",
      "GE: Accuracy = 0.46, Precision = 0.17, Recall = 0.04, F1 Score = 0.06\n",
      "GOOG: Accuracy = 0.44, Precision = 0.50, Recall = 0.03, F1 Score = 0.06\n",
      "HD: Accuracy = 0.41, Precision = 0.67, Recall = 0.06, F1 Score = 0.10\n",
      "HON: Accuracy = 0.49, Precision = 0.67, Recall = 0.06, F1 Score = 0.12\n",
      "HRG: Accuracy = 0.39, Precision = 0.17, Recall = 0.03, F1 Score = 0.05\n",
      "HSBC: Accuracy = 0.63, Precision = 1.00, Recall = 0.04, F1 Score = 0.08\n",
      "IEP: Accuracy = 0.61, Precision = 0.50, Recall = 0.09, F1 Score = 0.15\n",
      "INTC: Accuracy = 0.53, Precision = 1.00, Recall = 0.03, F1 Score = 0.07\n",
      "JNJ: Accuracy = 0.44, Precision = 0.00, Recall = 0.00, F1 Score = 0.00\n",
      "JPM: Accuracy = 0.51, Precision = 0.50, Recall = 0.03, F1 Score = 0.06\n",
      "KO: Accuracy = 0.51, Precision = 0.00, Recall = 0.00, F1 Score = 0.00\n",
      "LMT: Accuracy = 0.46, Precision = 0.33, Recall = 0.03, F1 Score = 0.06\n",
      "MA: Accuracy = 0.44, Precision = 0.00, Recall = 0.00, F1 Score = 0.00\n",
      "MCD: Accuracy = 0.39, Precision = 0.25, Recall = 0.03, F1 Score = 0.05\n",
      "MDT: Accuracy = 0.47, Precision = 0.50, Recall = 0.03, F1 Score = 0.06\n",
      "MMM: Accuracy = 0.42, Precision = 0.00, Recall = 0.00, F1 Score = 0.00\n",
      "MO: Accuracy = 0.49, Precision = 0.50, Recall = 0.03, F1 Score = 0.06\n",
      "MRK: Accuracy = 0.54, Precision = 1.00, Recall = 0.04, F1 Score = 0.07\n",
      "MSFT: Accuracy = 0.46, Precision = 0.75, Recall = 0.09, F1 Score = 0.16\n",
      "NEE: Accuracy = 0.42, Precision = 0.50, Recall = 0.03, F1 Score = 0.06\n",
      "NGG: Accuracy = 0.54, Precision = 0.33, Recall = 0.04, F1 Score = 0.07\n",
      "NVS: Accuracy = 0.61, Precision = 0.00, Recall = 0.00, F1 Score = 0.00\n",
      "ORCL: Accuracy = 0.51, Precision = 0.33, Recall = 0.04, F1 Score = 0.06\n",
      "PCG: Accuracy = 0.49, Precision = 0.33, Recall = 0.03, F1 Score = 0.06\n",
      "PCLN: Accuracy = 0.41, Precision = 0.00, Recall = 0.00, F1 Score = 0.00\n",
      "PEP: Accuracy = 0.51, Precision = 0.00, Recall = 0.00, F1 Score = 0.00\n",
      "PFE: Accuracy = 0.61, Precision = 0.40, Recall = 0.09, F1 Score = 0.15\n",
      "PG: Accuracy = 0.44, Precision = 0.00, Recall = 0.00, F1 Score = 0.00\n",
      "PICO: Accuracy = 0.47, Precision = 0.44, Recall = 0.13, F1 Score = 0.21\n",
      "PM: Accuracy = 0.49, Precision = 1.00, Recall = 0.03, F1 Score = 0.06\n",
      "PPL: Accuracy = 0.56, Precision = 0.75, Recall = 0.11, F1 Score = 0.19\n",
      "PTR: Accuracy = 0.54, Precision = 1.00, Recall = 0.13, F1 Score = 0.23\n",
      "RDS-B: Accuracy = 0.61, Precision = 0.40, Recall = 0.09, F1 Score = 0.15\n",
      "REX: Accuracy = 0.42, Precision = 0.20, Recall = 0.03, F1 Score = 0.06\n",
      "SLB: Accuracy = 0.53, Precision = 0.50, Recall = 0.04, F1 Score = 0.07\n",
      "SNP: Accuracy = 0.46, Precision = 0.00, Recall = 0.00, F1 Score = 0.00\n",
      "SNY: Accuracy = 0.63, Precision = 0.44, Recall = 0.19, F1 Score = 0.27\n",
      "SO: Accuracy = 0.53, Precision = 0.00, Recall = 0.00, F1 Score = 0.00\n",
      "SPLP: Accuracy = 0.46, Precision = 0.37, Recall = 0.40, F1 Score = 0.38\n",
      "SRE: Accuracy = 0.54, Precision = 0.60, Recall = 0.11, F1 Score = 0.18\n",
      "T: Accuracy = 0.58, Precision = 0.67, Recall = 0.08, F1 Score = 0.14\n",
      "TM: Accuracy = 0.46, Precision = 0.33, Recall = 0.03, F1 Score = 0.06\n",
      "TOT: Accuracy = 0.58, Precision = 0.40, Recall = 0.08, F1 Score = 0.14\n",
      "TSM: Accuracy = 0.59, Precision = 0.00, Recall = 0.00, F1 Score = 0.00\n",
      "UL: Accuracy = 0.53, Precision = 0.00, Recall = 0.00, F1 Score = 0.00\n",
      "UN: Accuracy = 0.53, Precision = 0.50, Recall = 0.04, F1 Score = 0.07\n",
      "UNH: Accuracy = 0.54, Precision = 1.00, Recall = 0.10, F1 Score = 0.18\n",
      "UPS: Accuracy = 0.51, Precision = 1.00, Recall = 0.03, F1 Score = 0.06\n",
      "UTX: Accuracy = 0.51, Precision = 0.50, Recall = 0.07, F1 Score = 0.12\n",
      "V: Accuracy = 0.44, Precision = 0.00, Recall = 0.00, F1 Score = 0.00\n",
      "VZ: Accuracy = 0.54, Precision = 0.50, Recall = 0.04, F1 Score = 0.07\n",
      "WFC: Accuracy = 0.53, Precision = 0.00, Recall = 0.00, F1 Score = 0.00\n",
      "WMT: Accuracy = 0.54, Precision = 0.75, Recall = 0.10, F1 Score = 0.18\n",
      "XOM: Accuracy = 0.53, Precision = 0.00, Recall = 0.00, F1 Score = 0.00\n"
     ]
    },
    {
     "name": "stderr",
     "output_type": "stream",
     "text": [
      "\n"
     ]
    }
   ],
   "source": [
    "from tqdm import tqdm\n",
    "from sklearn.metrics import confusion_matrix, classification_report\n",
    "\n",
    "# Initialize a dictionary to store results for each company\n",
    "results = {}\n",
    "\n",
    "# Function to calculate and display metrics\n",
    "def calculate_metrics_for_company(company, actual, predictions):\n",
    "    \"\"\"\n",
    "    Calculate and display metrics for a specific company's test data.\n",
    "\n",
    "    Parameters:\n",
    "        company (str): Name of the company.\n",
    "        actual (array): Actual stock movement labels (1 for up, 0 for down).\n",
    "        predictions (array): Model's predicted stock movement.\n",
    "    \"\"\"\n",
    "    # Calculate confusion matrix\n",
    "    tn, fp, fn, tp = confusion_matrix(actual, predictions).ravel()\n",
    "\n",
    "    # Calculate metrics\n",
    "    accuracy = (tp + tn) / (tp + tn + fp + fn)\n",
    "    precision = tp / (tp + fp) if tp + fp > 0 else 0\n",
    "    recall = tp / (tp + fn) if tp + fn > 0 else 0\n",
    "    f1_score = 2 * (precision * recall) / (precision + recall) if (precision + recall) > 0 else 0\n",
    "\n",
    "    # Store metrics in the results dictionary\n",
    "    results[company] = {\n",
    "        \"accuracy\": accuracy,\n",
    "        \"precision\": precision,\n",
    "        \"recall\": recall,\n",
    "        \"f1_score\": f1_score,\n",
    "        \"confusion_matrix\": (tp, tn, fp, fn),\n",
    "    }\n",
    "\n",
    "    # Print metrics for the company\n",
    "    #print(f\"Metrics for {company}:\")\n",
    "    #print(f\"  TP: {tp}, TN: {tn}, FP: {fp}, FN: {fn}\")\n",
    "    #print(f\"  Accuracy: {accuracy:.2f}, Precision: {precision:.2f}, Recall: {recall:.2f}, F1 Score: {f1_score:.2f}\\n\")\n",
    "\n",
    "\n",
    "# Loop through all companies in the test set and calculate metrics\n",
    "for company in tqdm(X_test_dict.keys(), desc=\"Evaluating Companies\"):\n",
    "    # Get test data for the company\n",
    "    X_test = X_test_dict[company]\n",
    "    y_test = y_test_dict[company]\n",
    "\n",
    "    # Predict using the model\n",
    "    predictions = model.predict(X_test)\n",
    "    predicted_classes = (predictions > 0.5).astype(int).flatten()\n",
    "\n",
    "    # Calculate and display metrics for the company\n",
    "    calculate_metrics_for_company(company, y_test, predicted_classes)\n",
    "\n",
    "# Print final summary\n",
    "print(\"\\nSummary of Metrics for All Companies:\")\n",
    "for company, metrics in results.items():\n",
    "    print(f\"{company}: Accuracy = {metrics['accuracy']:.2f}, Precision = {metrics['precision']:.2f}, Recall = {metrics['recall']:.2f}, F1 Score = {metrics['f1_score']:.2f}\")\n"
   ]
  },
  {
   "cell_type": "code",
   "execution_count": 19,
   "metadata": {},
   "outputs": [
    {
     "name": "stdout",
     "output_type": "stream",
     "text": [
      "\n",
      "Summary of Metrics Across All Companies:\n",
      "Average Accuracy: 0.51\n",
      "Average Precision: 0.42\n",
      "Average Recall: 0.06\n",
      "Average F1 Score: 0.10\n"
     ]
    }
   ],
   "source": [
    "# Initialize variables to calculate average metrics\n",
    "total_accuracy, total_precision, total_recall, total_f1 = 0, 0, 0, 0\n",
    "num_companies = len(results)\n",
    "\n",
    "# Calculate average metrics\n",
    "for metrics in results.values():\n",
    "    total_accuracy += metrics[\"accuracy\"]\n",
    "    total_precision += metrics[\"precision\"]\n",
    "    total_recall += metrics[\"recall\"]\n",
    "    total_f1 += metrics[\"f1_score\"]\n",
    "\n",
    "average_accuracy = total_accuracy / num_companies\n",
    "average_precision = total_precision / num_companies\n",
    "average_recall = total_recall / num_companies\n",
    "average_f1 = total_f1 / num_companies\n",
    "\n",
    "# Print summary of metrics\n",
    "print(\"\\nSummary of Metrics Across All Companies:\")\n",
    "print(f\"Average Accuracy: {average_accuracy:.2f}\")\n",
    "print(f\"Average Precision: {average_precision:.2f}\")\n",
    "print(f\"Average Recall: {average_recall:.2f}\")\n",
    "print(f\"Average F1 Score: {average_f1:.2f}\")\n"
   ]
  },
  {
   "cell_type": "code",
   "execution_count": null,
   "metadata": {},
   "outputs": [],
   "source": []
  }
 ],
 "metadata": {
  "kernelspec": {
   "display_name": "env",
   "language": "python",
   "name": "python3"
  },
  "language_info": {
   "codemirror_mode": {
    "name": "ipython",
    "version": 3
   },
   "file_extension": ".py",
   "mimetype": "text/x-python",
   "name": "python",
   "nbconvert_exporter": "python",
   "pygments_lexer": "ipython3",
   "version": "3.11.2"
  }
 },
 "nbformat": 4,
 "nbformat_minor": 2
}
