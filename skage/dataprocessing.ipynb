{
 "cells": [
  {
   "cell_type": "markdown",
   "metadata": {},
   "source": [
    "# Create csv file from pre processed text files:"
   ]
  },
  {
   "cell_type": "code",
   "execution_count": 6,
   "metadata": {},
   "outputs": [],
   "source": [
    "import os\n",
    "import pandas as pd\n",
    "\n",
    "data_dir = 'dataset/price/preprocessed/'\n",
    "\n",
    "for stock_name in os.listdir(data_dir):\n",
    "    txt_stockprice_file = os.path.join(data_dir, stock_name)\n",
    "    if txt_stockprice_file.endswith('txt'):\n",
    "        csv_stockprice_file = os.path.join(data_dir, 'csv/', stock_name.replace('.txt', '.csv'))\n",
    "        #csv_stockprice_file = f\"csv/{txt_stockprice_file.replace('.txt', '.csv')}\"\n",
    "        df = pd.read_csv(\n",
    "                    txt_stockprice_file, \n",
    "                    delimiter=\"\\t\", \n",
    "                    header=None, \n",
    "                    names=[\"Date\", \"Movement_Percent\", \"Open\", \"High\", \"Low\", \"Close\", \"Volume\"]\n",
    "                )\n",
    "        \n",
    "        df[\"Date\"] = pd.to_datetime(df[\"Date\"])\n",
    "        df = df.sort_values(by=\"Date\")\n",
    "\n",
    "        df.to_csv(csv_stockprice_file, index=False)\n",
    "\n"
   ]
  },
  {
   "cell_type": "markdown",
   "metadata": {},
   "source": [
    "### Convert tweets files to proper json"
   ]
  },
  {
   "cell_type": "code",
   "execution_count": 13,
   "metadata": {},
   "outputs": [],
   "source": [
    "import os\n",
    "import json\n",
    "\n",
    "# Input folder containing the improperly formatted JSON files\n",
    "input_folder = \"dataset/tweet/preprocessed\"\n",
    "output_root = \"dataset/tweet/preprocessed-json/\"\n",
    "\n",
    "\n",
    "\n",
    "for stock in os.listdir(input_folder):\n",
    "    stock_folder = os.path.join(input_folder, stock)\n",
    "    for date in os.listdir(stock_folder):\n",
    "        output_folder = os.path.join(output_root, stock)\n",
    "        input_file = os.path.join(input_folder, stock, date)\n",
    "        if date.startswith(\"20\"):\n",
    "            os.makedirs(output_folder, exist_ok=True)\n",
    "            output_file = os.path.join(output_folder, f'{date}.json')\n",
    "            # Open the input file and create the output JSON file\n",
    "            with open(input_file, \"r\", encoding=\"utf-8\") as infile, open(output_file, \"w\", encoding=\"utf-8\") as outfile:\n",
    "                json_list = []\n",
    "                for line in infile:\n",
    "                    try:\n",
    "                        # Parse the line as JSON\n",
    "                        parsed_line = json.loads(line.strip())\n",
    "                        json_list.append(parsed_line)\n",
    "                    except json.JSONDecodeError as e:\n",
    "                        print(f\"Error decoding line in {input_file}: {e}\")\n",
    "                \n",
    "                # Write the proper JSON to the output file\n",
    "                json.dump(json_list, outfile, indent=4)"
   ]
  },
  {
   "cell_type": "code",
   "execution_count": null,
   "metadata": {},
   "outputs": [],
   "source": []
  }
 ],
 "metadata": {
  "kernelspec": {
   "display_name": "dnn",
   "language": "python",
   "name": "python3"
  },
  "language_info": {
   "codemirror_mode": {
    "name": "ipython",
    "version": 3
   },
   "file_extension": ".py",
   "mimetype": "text/x-python",
   "name": "python",
   "nbconvert_exporter": "python",
   "pygments_lexer": "ipython3",
   "version": "3.10.14"
  }
 },
 "nbformat": 4,
 "nbformat_minor": 2
}
