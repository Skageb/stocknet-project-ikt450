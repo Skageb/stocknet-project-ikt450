{
 "cells": [
  {
   "cell_type": "code",
   "execution_count": 20,
   "metadata": {},
   "outputs": [
    {
     "name": "stdout",
     "output_type": "stream",
     "text": [
      "1258\n",
      "520\n",
      "          Date       Open       High        Low      Close  Adj Close  \\\n",
      "333 2014-01-02  26.170000  26.170000  25.780001  25.930000  22.476974   \n",
      "336 2014-01-07  25.709999  25.910000  25.680000  25.870001  22.424965   \n",
      "339 2014-01-10  26.100000  26.299999  26.070000  26.299999  22.797699   \n",
      "340 2014-01-13  26.230000  26.299999  26.040001  26.080000  22.607000   \n",
      "341 2014-01-14  26.260000  26.430000  26.160000  26.420000  22.901722   \n",
      "..         ...        ...        ...        ...        ...        ...   \n",
      "725 2015-07-24  20.360001  20.379999  19.969999  20.000000  18.578381   \n",
      "726 2015-07-27  19.889999  19.889999  19.639999  19.680000  18.281128   \n",
      "727 2015-07-28  19.709999  19.900000  19.670000  19.870001  18.457623   \n",
      "728 2015-07-29  19.809999  20.059999  19.799999  19.940001  18.522646   \n",
      "730 2015-07-31  20.389999  20.410000  20.250000  20.280001  18.838480   \n",
      "\n",
      "      Volume Name  Label  \n",
      "333  2720400  ABB      0  \n",
      "336   896200  ABB      1  \n",
      "339  1297500  ABB      1  \n",
      "340  1059600  ABB      0  \n",
      "341  1159500  ABB      1  \n",
      "..       ...  ...    ...  \n",
      "725  2708600  ABB      0  \n",
      "726  2211000  ABB      0  \n",
      "727  1868700  ABB      1  \n",
      "728  1413400  ABB      1  \n",
      "730  1517100  ABB      0  \n",
      "\n",
      "[159 rows x 9 columns]\n"
     ]
    }
   ],
   "source": [
    "missing_entries = 0\n",
    "\n",
    "def generate_label(open_price, close_price) -> int:\n",
    "    global missing_entries\n",
    "    movement_percent = (close_price - open_price) / open_price * 100\n",
    "    if movement_percent <= -0.5:\n",
    "        return 0\n",
    "    elif movement_percent >= 0.55:\n",
    "        return 1\n",
    "    else:\n",
    "        missing_entries += 1\n",
    "        return -1\n",
    "\n",
    "import pandas as pd\n",
    "\n",
    "df = pd.read_csv('dataset/price/raw/ABB.csv')\n",
    "path = 'dataset/price/raw/ABB.csv'\n",
    "\n",
    "stock_name = path.split('/')[-1].split('.')[0]\n",
    "\n",
    "df['Name'] = stock_name\n",
    "df['Label'] = df.apply(lambda row: generate_label(row['Open'], row['Close']), axis=1)\n",
    "print(len(df))\n",
    "\n",
    "df = df[~(df['Label'] == -1)]\n",
    "\n",
    "print(len(df))\n",
    "\n",
    "df['Date'] = pd.to_datetime(df['Date'])\n",
    "\n",
    "# Define start and end dates\n",
    "start_date = '2014-01-01'\n",
    "end_date = '2015-08-01'\n",
    "\n",
    "# Filter the DataFrame for dates between start_date and end_date\n",
    "filtered_df = df[(df['Date'] >= start_date) & (df['Date'] <= end_date)]\n",
    "\n",
    "print(filtered_df)"
   ]
  },
  {
   "cell_type": "code",
   "execution_count": null,
   "metadata": {},
   "outputs": [],
   "source": [
    "import pandas as pd\n",
    "\n",
    "def get_train_data(path:str) -> pd.DataFrame:\n",
    "    df = pd.read_csv(path)\n",
    "\n",
    "    stock_name = path.split('.')[0]\n",
    "\n",
    "    df['Name'] = stock_name\n",
    "\n",
    "    df['Label'] = df.apply(lambda row: generate_label(row['Open'], row['Close']), axis=1)\n",
    "\n",
    "    df = df[~(df['Label'] == -1)]\n",
    "\n",
    "    df['Date'] = pd.to_datetime(df['Date'])\n",
    "\n",
    "    # Define start and end dates\n",
    "    start_date = '2014-01-01'\n",
    "    end_date = '2015-08-02'\n",
    "\n",
    "    # Filter the DataFrame for dates between start_date and end_date\n",
    "    filtered_df = df[(df['Date'] >= start_date) & (df['Date'] <= end_date)]\n",
    "\n",
    "    return filtered_df\n",
    "\n"
   ]
  },
  {
   "cell_type": "code",
   "execution_count": 22,
   "metadata": {},
   "outputs": [
    {
     "name": "stdout",
     "output_type": "stream",
     "text": [
      "17856\n",
      "52266\n"
     ]
    }
   ],
   "source": [
    "import os\n",
    "missing_entries = 0\n",
    "root = 'dataset/price/raw'\n",
    "for idx, stock_path in enumerate(os.listdir(root)):\n",
    "    df_stock = get_train_data(os.path.join(root, stock_path))\n",
    "    if idx == 0:\n",
    "        df_train = df_stock\n",
    "    else:\n",
    "        df_train = pd.concat([df_train, df_stock])\n",
    "    \n",
    "print(len(df_train))\n",
    "print(missing_entries)\n",
    "    "
   ]
  },
  {
   "cell_type": "code",
   "execution_count": null,
   "metadata": {},
   "outputs": [],
   "source": []
  }
 ],
 "metadata": {
  "kernelspec": {
   "display_name": "dnn",
   "language": "python",
   "name": "python3"
  },
  "language_info": {
   "codemirror_mode": {
    "name": "ipython",
    "version": 3
   },
   "file_extension": ".py",
   "mimetype": "text/x-python",
   "name": "python",
   "nbconvert_exporter": "python",
   "pygments_lexer": "ipython3",
   "version": "3.10.14"
  }
 },
 "nbformat": 4,
 "nbformat_minor": 2
}
